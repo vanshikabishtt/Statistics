{
  "nbformat": 4,
  "nbformat_minor": 0,
  "metadata": {
    "colab": {
      "provenance": []
    },
    "kernelspec": {
      "name": "python3",
      "display_name": "Python 3"
    },
    "language_info": {
      "name": "python"
    }
  },
  "cells": [
    {
      "cell_type": "markdown",
      "source": [
        "# **Ttest 1Sample**"
      ],
      "metadata": {
        "id": "IbS4oCWIKtBH"
      }
    },
    {
      "cell_type": "code",
      "execution_count": null,
      "metadata": {
        "colab": {
          "base_uri": "https://localhost:8080/"
        },
        "id": "bKH7QOxSE4vZ",
        "outputId": "26854846-8b3c-4e0d-e142-27680ecbde24"
      },
      "outputs": [
        {
          "output_type": "stream",
          "name": "stdout",
          "text": [
            "[2, 3, 4, 3, 2, 54, 65, 32, 53, 44, 1, 22, 78, 12, 15, 5, 6, 76, 11, 9]\n"
          ]
        }
      ],
      "source": [
        "l1=[2,3,4,3,2,54,65,32,53,44,1,22,78,12,15,5,6,76,11,9]\n",
        "print(l1)"
      ]
    },
    {
      "cell_type": "code",
      "source": [
        "from scipy.stats import ttest_1samp"
      ],
      "metadata": {
        "id": "L7ObtEURG1Kx"
      },
      "execution_count": null,
      "outputs": []
    },
    {
      "cell_type": "code",
      "source": [
        "assumed_mean=60\n",
        "stat,pvalue=ttest_1samp(l1,assumed_mean)\n",
        "print(\"The Pvalue is:\",pvalue)\n",
        "if pvalue>0.05:\n",
        "  print(\"The mean of the sample is same as the assumed mean[Accept H0]\")\n",
        "else:\n",
        "  print(\"The mean of the sample is different as the assumed mean[Accept Ha]\")"
      ],
      "metadata": {
        "colab": {
          "base_uri": "https://localhost:8080/"
        },
        "id": "XsuxyIPFG8C6",
        "outputId": "0bd8ee99-3fb3-432d-c726-6fa6584b2a8d"
      },
      "execution_count": null,
      "outputs": [
        {
          "output_type": "stream",
          "name": "stdout",
          "text": [
            "The Pvalue is: 1.1590222139648548e-05\n",
            "The mean of the sample is different as the assumed mean[Accept Ha]\n"
          ]
        }
      ]
    },
    {
      "cell_type": "code",
      "source": [
        "print(len(l1))\n",
        "print(sum(l1))"
      ],
      "metadata": {
        "colab": {
          "base_uri": "https://localhost:8080/"
        },
        "id": "nkqe5X4jJ_06",
        "outputId": "ad6702aa-df58-476c-e49f-41e2be7c43ae"
      },
      "execution_count": null,
      "outputs": [
        {
          "output_type": "stream",
          "name": "stdout",
          "text": [
            "20\n",
            "497\n"
          ]
        }
      ]
    },
    {
      "cell_type": "code",
      "source": [
        "mean=sum(l1)/len(l1)\n",
        "print(\"The Actual mean is:\",mean)"
      ],
      "metadata": {
        "colab": {
          "base_uri": "https://localhost:8080/"
        },
        "id": "Ve6TOuQiKIhY",
        "outputId": "fecc5490-9190-44ca-d534-9ba4f4502702"
      },
      "execution_count": null,
      "outputs": [
        {
          "output_type": "stream",
          "name": "stdout",
          "text": [
            "The Actual mean is: 24.85\n"
          ]
        }
      ]
    },
    {
      "cell_type": "markdown",
      "source": [
        "# **TTest 2Sample**"
      ],
      "metadata": {
        "id": "4RP5TgUHLMI1"
      }
    },
    {
      "cell_type": "code",
      "source": [
        "from scipy.stats import ttest_ind"
      ],
      "metadata": {
        "id": "MXe480GMLNn2"
      },
      "execution_count": null,
      "outputs": []
    },
    {
      "cell_type": "code",
      "source": [
        "l1=[2,3,4,3,2,54,65,32,53,44,1,22,78,12,15,5,6,76,11,9]\n",
        "l2=[3,2,4,55,44,34,21,76,11,27,89,65,5,56,43,23,90,10,2,7]"
      ],
      "metadata": {
        "id": "NpaTOPP1LdVE"
      },
      "execution_count": null,
      "outputs": []
    },
    {
      "cell_type": "code",
      "source": [
        "stat2,pvalue2=ttest_ind(l1,l2)\n",
        "print(\"The pvalue is:\",pvalue2)\n",
        "if pvalue2>0.05:\n",
        "  print(\"The mean of both the samples are same[Accept Ha]\")\n",
        "else:\n",
        "  print(\"The mean of both the samples are different[Accept H0]\")\n",
        "\n"
      ],
      "metadata": {
        "colab": {
          "base_uri": "https://localhost:8080/"
        },
        "id": "_ZQ9mmQGLzvO",
        "outputId": "2ddf7ab5-5092-46df-c232-d77043c577ac"
      },
      "execution_count": null,
      "outputs": [
        {
          "output_type": "stream",
          "name": "stdout",
          "text": [
            "The pvalue is: 0.3486165578109206\n",
            "The mean of both the samples are same[Accept Ha]\n"
          ]
        }
      ]
    },
    {
      "cell_type": "markdown",
      "source": [
        "# **Dependent TTest OR Relative TTest**"
      ],
      "metadata": {
        "id": "TgdbqpslN0Jl"
      }
    },
    {
      "cell_type": "code",
      "source": [
        "data_b=[22,34,56,12,10]\n",
        "data_a=[43,65,56,43,89]"
      ],
      "metadata": {
        "id": "IsMzgvINORC3"
      },
      "execution_count": null,
      "outputs": []
    },
    {
      "cell_type": "code",
      "source": [
        "from scipy.stats import ttest_rel\n",
        "pvalue3=ttest_rel(data_b,data_a)[1]\n",
        "print(\"The Pvalue is:\",pvalue3)\n",
        "if pvalue3>0.05:\n",
        "  print(\"The mean of both the samples are same[Accept Ha]\")\n",
        "else:\n",
        "  print(\"The mean of both the samples are different[Accept H0]\")"
      ],
      "metadata": {
        "colab": {
          "base_uri": "https://localhost:8080/"
        },
        "id": "ZeNB_g0FPF7A",
        "outputId": "0a6235e2-6bac-4d2b-ccc9-bfc8e9ea0ac2"
      },
      "execution_count": null,
      "outputs": [
        {
          "output_type": "stream",
          "name": "stdout",
          "text": [
            "The Pvalue is: 0.06665949505287982\n",
            "The mean of both the samples are same[Accept Ha]\n"
          ]
        }
      ]
    }
  ]
}